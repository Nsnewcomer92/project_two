{
 "cells": [
  {
   "cell_type": "code",
   "execution_count": 4,
   "metadata": {},
   "outputs": [
    {
     "name": "stdout",
     "output_type": "stream",
     "text": [
      "{\"Dates\":{\"OutboundDates\":[{\"PartialDate\":\"2020-09-01\",\"QuoteIds\":[1],\"Price\":33.0,\"QuoteDateTime\":\"2020-06-27T04:40:00\"}]},\"Quotes\":[{\"QuoteId\":1,\"MinPrice\":33.0,\"Direct\":true,\"OutboundLeg\":{\"CarrierIds\":[851],\"OriginId\":81727,\"DestinationId\":65368,\"DepartureDate\":\"2020-09-01T00:00:00\"},\"QuoteDateTime\":\"2020-06-27T04:40:00\"}],\"Places\":[{\"PlaceId\":65368,\"IataCode\":\"LAX\",\"Name\":\"Los Angeles International\",\"Type\":\"Station\",\"SkyscannerCode\":\"LAX\",\"CityName\":\"Los Angeles\",\"CityId\":\"LAXA\",\"CountryName\":\"United States\"},{\"PlaceId\":81727,\"IataCode\":\"SFO\",\"Name\":\"San Francisco International\",\"Type\":\"Station\",\"SkyscannerCode\":\"SFO\",\"CityName\":\"San Francisco\",\"CityId\":\"SFOA\",\"CountryName\":\"United States\"}],\"Carriers\":[{\"CarrierId\":851,\"Name\":\"Alaska Airlines\"}],\"Currencies\":[{\"Code\":\"USD\",\"Symbol\":\"$\",\"ThousandsSeparator\":\",\",\"DecimalSeparator\":\".\",\"SymbolOnLeft\":true,\"SpaceBetweenAmountAndSymbol\":false,\"RoundingCoefficient\":0,\"DecimalDigits\":2}]}\n"
     ]
    }
   ],
   "source": [
    "import requests\n",
    "\n",
    "url = \"https://skyscanner-skyscanner-flight-search-v1.p.rapidapi.com/apiservices/browsedates/v1.0/US/USD/en-US/SFO-sky/LAX-sky/2020-09-01\"\n",
    "\n",
    "querystring = {\"inboundpartialdate\":\"2020-12-01\"}\n",
    "\n",
    "headers = {\n",
    "    'x-rapidapi-host': \"skyscanner-skyscanner-flight-search-v1.p.rapidapi.com\",\n",
    "    'x-rapidapi-key': \"68e3f8273fmshed3dde3b70a9127p1906b3jsn805b2870f3f4\"\n",
    "    }\n",
    "\n",
    "response = requests.request(\"GET\", url, headers=headers, params=querystring)\n",
    "\n",
    "print(response.text)"
   ]
  },
  {
   "cell_type": "code",
   "execution_count": null,
   "metadata": {},
   "outputs": [],
   "source": []
  }
 ],
 "metadata": {
  "kernelspec": {
   "display_name": "Python 3",
   "language": "python",
   "name": "python3"
  },
  "language_info": {
   "codemirror_mode": {
    "name": "ipython",
    "version": 3
   },
   "file_extension": ".py",
   "mimetype": "text/x-python",
   "name": "python",
   "nbconvert_exporter": "python",
   "pygments_lexer": "ipython3",
   "version": "3.7.4"
  }
 },
 "nbformat": 4,
 "nbformat_minor": 2
}
